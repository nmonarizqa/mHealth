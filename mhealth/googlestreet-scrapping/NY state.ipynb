{
 "cells": [
  {
   "cell_type": "code",
   "execution_count": 2,
   "metadata": {
    "collapsed": false
   },
   "outputs": [],
   "source": [
    "import pandas as pd\n",
    "import json"
   ]
  },
  {
   "cell_type": "code",
   "execution_count": 8,
   "metadata": {
    "collapsed": false
   },
   "outputs": [],
   "source": [
    "with open('nyc_tobacco.json') as json_data:\n",
    "    d = json.load(json_data)"
   ]
  },
  {
   "cell_type": "code",
   "execution_count": 15,
   "metadata": {
    "collapsed": false
   },
   "outputs": [],
   "source": [
    "df = pd.DataFrame(d['data'])"
   ]
  },
  {
   "cell_type": "code",
   "execution_count": 36,
   "metadata": {
    "collapsed": false
   },
   "outputs": [],
   "source": [
    "lats = []\n",
    "longs = []\n",
    "for i in range(len(df)):\n",
    "    lats.append(df.loc[:,18][i][1])\n",
    "    longs.append(df.loc[:,18][i][2])"
   ]
  },
  {
   "cell_type": "code",
   "execution_count": 25,
   "metadata": {
    "collapsed": false
   },
   "outputs": [
    {
     "data": {
      "text/html": [
       "<div>\n",
       "<table border=\"1\" class=\"dataframe\">\n",
       "  <thead>\n",
       "    <tr style=\"text-align: right;\">\n",
       "      <th></th>\n",
       "      <th>0</th>\n",
       "      <th>1</th>\n",
       "      <th>2</th>\n",
       "      <th>3</th>\n",
       "      <th>4</th>\n",
       "      <th>5</th>\n",
       "      <th>6</th>\n",
       "      <th>7</th>\n",
       "      <th>8</th>\n",
       "      <th>9</th>\n",
       "      <th>10</th>\n",
       "      <th>11</th>\n",
       "      <th>12</th>\n",
       "      <th>13</th>\n",
       "      <th>14</th>\n",
       "      <th>15</th>\n",
       "      <th>16</th>\n",
       "      <th>17</th>\n",
       "      <th>18</th>\n",
       "    </tr>\n",
       "  </thead>\n",
       "  <tbody>\n",
       "    <tr>\n",
       "      <th>0</th>\n",
       "      <td>16604</td>\n",
       "      <td>000776C1-0879-4593-AF33-533E249E2F21</td>\n",
       "      <td>16604</td>\n",
       "      <td>1482944776</td>\n",
       "      <td>912986</td>\n",
       "      <td>1482945019</td>\n",
       "      <td>705890</td>\n",
       "      <td>None</td>\n",
       "      <td>NYC</td>\n",
       "      <td>BLISS DELI &amp; GROCERY CORP</td>\n",
       "      <td>4622 QUEENS BOULEVARD</td>\n",
       "      <td>SUNNYSIDE</td>\n",
       "      <td>NY</td>\n",
       "      <td>11104</td>\n",
       "      <td>NEW YORK CITY</td>\n",
       "      <td>NEW YORK CITY</td>\n",
       "      <td>GROCERY SUPERMARKET</td>\n",
       "      <td>2016-05-09T00:00:00</td>\n",
       "      <td>[{\"address\":\"4622 QUEENS BOULEVARD\",\"city\":\"SU...</td>\n",
       "    </tr>\n",
       "    <tr>\n",
       "      <th>1</th>\n",
       "      <td>16497</td>\n",
       "      <td>0019D1AE-142E-4128-A0CC-DC1F01C4CAF8</td>\n",
       "      <td>16497</td>\n",
       "      <td>1482944776</td>\n",
       "      <td>912986</td>\n",
       "      <td>1482945019</td>\n",
       "      <td>705890</td>\n",
       "      <td>None</td>\n",
       "      <td>NYC</td>\n",
       "      <td>2355 DELI &amp; GROCERY CORP</td>\n",
       "      <td>2355 GRAND CONCOURSE</td>\n",
       "      <td>BRONX</td>\n",
       "      <td>NY</td>\n",
       "      <td>10468</td>\n",
       "      <td>BRONX</td>\n",
       "      <td>NEW YORK CITY</td>\n",
       "      <td>CONVENIENCE STORE</td>\n",
       "      <td>2016-05-09T00:00:00</td>\n",
       "      <td>[{\"address\":\"2355 GRAND CONCOURSE\",\"city\":\"BRO...</td>\n",
       "    </tr>\n",
       "    <tr>\n",
       "      <th>2</th>\n",
       "      <td>16503</td>\n",
       "      <td>002FCEB0-55B9-4B2E-8625-FC3C99E2255D</td>\n",
       "      <td>16503</td>\n",
       "      <td>1482944776</td>\n",
       "      <td>912986</td>\n",
       "      <td>1482945019</td>\n",
       "      <td>705890</td>\n",
       "      <td>None</td>\n",
       "      <td>NYC</td>\n",
       "      <td>4G DELI CORP</td>\n",
       "      <td>11316 SUTPHIN BOULEVARD</td>\n",
       "      <td>JAMAICA</td>\n",
       "      <td>NY</td>\n",
       "      <td>11435</td>\n",
       "      <td>QUEENS</td>\n",
       "      <td>NEW YORK CITY</td>\n",
       "      <td>GROCERY SUPERMARKET</td>\n",
       "      <td>2016-05-09T00:00:00</td>\n",
       "      <td>[{\"address\":\"11316 SUTPHIN BOULEVARD\",\"city\":\"...</td>\n",
       "    </tr>\n",
       "    <tr>\n",
       "      <th>3</th>\n",
       "      <td>16396</td>\n",
       "      <td>00481BF2-6EF4-4070-9908-614272B46A33</td>\n",
       "      <td>16396</td>\n",
       "      <td>1482944776</td>\n",
       "      <td>912986</td>\n",
       "      <td>1482945019</td>\n",
       "      <td>705890</td>\n",
       "      <td>None</td>\n",
       "      <td>NYC</td>\n",
       "      <td>124 STOP 1 FOOD MART INC</td>\n",
       "      <td>124 UNION STREET</td>\n",
       "      <td>BROOKLYN</td>\n",
       "      <td>NY</td>\n",
       "      <td>11231</td>\n",
       "      <td>BROOKLYN</td>\n",
       "      <td>NEW YORK CITY</td>\n",
       "      <td>GROCERY SUPERMARKET</td>\n",
       "      <td>2016-05-09T00:00:00</td>\n",
       "      <td>[{\"address\":\"124 UNION STREET\",\"city\":\"BROOKLY...</td>\n",
       "    </tr>\n",
       "    <tr>\n",
       "      <th>4</th>\n",
       "      <td>16925</td>\n",
       "      <td>00ED9B11-F642-45D3-908B-9C9335F6381F</td>\n",
       "      <td>16925</td>\n",
       "      <td>1482944776</td>\n",
       "      <td>912986</td>\n",
       "      <td>1482945019</td>\n",
       "      <td>705890</td>\n",
       "      <td>None</td>\n",
       "      <td>NYC</td>\n",
       "      <td>KAID ABDULLA NAGI</td>\n",
       "      <td>2185 PACIFIC STREET</td>\n",
       "      <td>BROOKLYN</td>\n",
       "      <td>NY</td>\n",
       "      <td>11233</td>\n",
       "      <td>BROOKLYN</td>\n",
       "      <td>NEW YORK CITY</td>\n",
       "      <td>GROCERY SUPERMARKET</td>\n",
       "      <td>2016-05-09T00:00:00</td>\n",
       "      <td>[{\"address\":\"2185 PACIFIC STREET\",\"city\":\"BROO...</td>\n",
       "    </tr>\n",
       "  </tbody>\n",
       "</table>\n",
       "</div>"
      ],
      "text/plain": [
       "      0                                     1      2           3       4   \\\n",
       "0  16604  000776C1-0879-4593-AF33-533E249E2F21  16604  1482944776  912986   \n",
       "1  16497  0019D1AE-142E-4128-A0CC-DC1F01C4CAF8  16497  1482944776  912986   \n",
       "2  16503  002FCEB0-55B9-4B2E-8625-FC3C99E2255D  16503  1482944776  912986   \n",
       "3  16396  00481BF2-6EF4-4070-9908-614272B46A33  16396  1482944776  912986   \n",
       "4  16925  00ED9B11-F642-45D3-908B-9C9335F6381F  16925  1482944776  912986   \n",
       "\n",
       "           5       6     7    8                          9   \\\n",
       "0  1482945019  705890  None  NYC  BLISS DELI & GROCERY CORP   \n",
       "1  1482945019  705890  None  NYC   2355 DELI & GROCERY CORP   \n",
       "2  1482945019  705890  None  NYC               4G DELI CORP   \n",
       "3  1482945019  705890  None  NYC   124 STOP 1 FOOD MART INC   \n",
       "4  1482945019  705890  None  NYC          KAID ABDULLA NAGI   \n",
       "\n",
       "                        10         11  12     13             14  \\\n",
       "0    4622 QUEENS BOULEVARD  SUNNYSIDE  NY  11104  NEW YORK CITY   \n",
       "1     2355 GRAND CONCOURSE      BRONX  NY  10468          BRONX   \n",
       "2  11316 SUTPHIN BOULEVARD    JAMAICA  NY  11435         QUEENS   \n",
       "3         124 UNION STREET   BROOKLYN  NY  11231       BROOKLYN   \n",
       "4      2185 PACIFIC STREET   BROOKLYN  NY  11233       BROOKLYN   \n",
       "\n",
       "              15                   16                   17  \\\n",
       "0  NEW YORK CITY  GROCERY SUPERMARKET  2016-05-09T00:00:00   \n",
       "1  NEW YORK CITY    CONVENIENCE STORE  2016-05-09T00:00:00   \n",
       "2  NEW YORK CITY  GROCERY SUPERMARKET  2016-05-09T00:00:00   \n",
       "3  NEW YORK CITY  GROCERY SUPERMARKET  2016-05-09T00:00:00   \n",
       "4  NEW YORK CITY  GROCERY SUPERMARKET  2016-05-09T00:00:00   \n",
       "\n",
       "                                                  18  \n",
       "0  [{\"address\":\"4622 QUEENS BOULEVARD\",\"city\":\"SU...  \n",
       "1  [{\"address\":\"2355 GRAND CONCOURSE\",\"city\":\"BRO...  \n",
       "2  [{\"address\":\"11316 SUTPHIN BOULEVARD\",\"city\":\"...  \n",
       "3  [{\"address\":\"124 UNION STREET\",\"city\":\"BROOKLY...  \n",
       "4  [{\"address\":\"2185 PACIFIC STREET\",\"city\":\"BROO...  "
      ]
     },
     "execution_count": 25,
     "metadata": {},
     "output_type": "execute_result"
    }
   ],
   "source": [
    "df.head()"
   ]
  },
  {
   "cell_type": "code",
   "execution_count": 54,
   "metadata": {
    "collapsed": false
   },
   "outputs": [],
   "source": [
    "tbc = pd.DataFrame()"
   ]
  },
  {
   "cell_type": "code",
   "execution_count": 55,
   "metadata": {
    "collapsed": false
   },
   "outputs": [],
   "source": [
    "tbc = pd.concat([tbc, df.loc[:,[0, 8, 9,10,11,13,14,16]]])"
   ]
  },
  {
   "cell_type": "code",
   "execution_count": 56,
   "metadata": {
    "collapsed": false
   },
   "outputs": [],
   "source": [
    "tbc['latitude'] = lats\n",
    "tbc['longitude'] = longs"
   ]
  },
  {
   "cell_type": "code",
   "execution_count": 57,
   "metadata": {
    "collapsed": false
   },
   "outputs": [
    {
     "data": {
      "text/plain": [
       "10"
      ]
     },
     "execution_count": 57,
     "metadata": {},
     "output_type": "execute_result"
    }
   ],
   "source": [
    "len(tbc.columns)"
   ]
  },
  {
   "cell_type": "code",
   "execution_count": 58,
   "metadata": {
    "collapsed": false
   },
   "outputs": [
    {
     "data": {
      "text/plain": [
       "Index([0, 8, 9, 10, 11, 13, 14, 16, u'latitude', u'longitude'], dtype='object')"
      ]
     },
     "execution_count": 58,
     "metadata": {},
     "output_type": "execute_result"
    }
   ],
   "source": [
    "tbc.columns"
   ]
  },
  {
   "cell_type": "code",
   "execution_count": 59,
   "metadata": {
    "collapsed": false
   },
   "outputs": [
    {
     "data": {
      "text/html": [
       "<div>\n",
       "<table border=\"1\" class=\"dataframe\">\n",
       "  <thead>\n",
       "    <tr style=\"text-align: right;\">\n",
       "      <th></th>\n",
       "      <th>0</th>\n",
       "      <th>8</th>\n",
       "      <th>9</th>\n",
       "      <th>10</th>\n",
       "      <th>11</th>\n",
       "      <th>13</th>\n",
       "      <th>14</th>\n",
       "      <th>16</th>\n",
       "      <th>latitude</th>\n",
       "      <th>longitude</th>\n",
       "    </tr>\n",
       "  </thead>\n",
       "  <tbody>\n",
       "    <tr>\n",
       "      <th>0</th>\n",
       "      <td>16604</td>\n",
       "      <td>NYC</td>\n",
       "      <td>BLISS DELI &amp; GROCERY CORP</td>\n",
       "      <td>4622 QUEENS BOULEVARD</td>\n",
       "      <td>SUNNYSIDE</td>\n",
       "      <td>11104</td>\n",
       "      <td>NEW YORK CITY</td>\n",
       "      <td>GROCERY SUPERMARKET</td>\n",
       "      <td>40.742926268000076</td>\n",
       "      <td>-73.91821291099996</td>\n",
       "    </tr>\n",
       "    <tr>\n",
       "      <th>1</th>\n",
       "      <td>16497</td>\n",
       "      <td>NYC</td>\n",
       "      <td>2355 DELI &amp; GROCERY CORP</td>\n",
       "      <td>2355 GRAND CONCOURSE</td>\n",
       "      <td>BRONX</td>\n",
       "      <td>10468</td>\n",
       "      <td>BRONX</td>\n",
       "      <td>CONVENIENCE STORE</td>\n",
       "      <td>40.85901719700007</td>\n",
       "      <td>-73.89924838099995</td>\n",
       "    </tr>\n",
       "    <tr>\n",
       "      <th>2</th>\n",
       "      <td>16503</td>\n",
       "      <td>NYC</td>\n",
       "      <td>4G DELI CORP</td>\n",
       "      <td>11316 SUTPHIN BOULEVARD</td>\n",
       "      <td>JAMAICA</td>\n",
       "      <td>11435</td>\n",
       "      <td>QUEENS</td>\n",
       "      <td>GROCERY SUPERMARKET</td>\n",
       "      <td>40.68646109600007</td>\n",
       "      <td>-73.79406595499995</td>\n",
       "    </tr>\n",
       "    <tr>\n",
       "      <th>3</th>\n",
       "      <td>16396</td>\n",
       "      <td>NYC</td>\n",
       "      <td>124 STOP 1 FOOD MART INC</td>\n",
       "      <td>124 UNION STREET</td>\n",
       "      <td>BROOKLYN</td>\n",
       "      <td>11231</td>\n",
       "      <td>BROOKLYN</td>\n",
       "      <td>GROCERY SUPERMARKET</td>\n",
       "      <td>40.68419413200007</td>\n",
       "      <td>-74.00244823299994</td>\n",
       "    </tr>\n",
       "    <tr>\n",
       "      <th>4</th>\n",
       "      <td>16925</td>\n",
       "      <td>NYC</td>\n",
       "      <td>KAID ABDULLA NAGI</td>\n",
       "      <td>2185 PACIFIC STREET</td>\n",
       "      <td>BROOKLYN</td>\n",
       "      <td>11233</td>\n",
       "      <td>BROOKLYN</td>\n",
       "      <td>GROCERY SUPERMARKET</td>\n",
       "      <td>40.675747510000065</td>\n",
       "      <td>-73.91400869999995</td>\n",
       "    </tr>\n",
       "  </tbody>\n",
       "</table>\n",
       "</div>"
      ],
      "text/plain": [
       "       0    8                          9                       10         11  \\\n",
       "0  16604  NYC  BLISS DELI & GROCERY CORP    4622 QUEENS BOULEVARD  SUNNYSIDE   \n",
       "1  16497  NYC   2355 DELI & GROCERY CORP     2355 GRAND CONCOURSE      BRONX   \n",
       "2  16503  NYC               4G DELI CORP  11316 SUTPHIN BOULEVARD    JAMAICA   \n",
       "3  16396  NYC   124 STOP 1 FOOD MART INC         124 UNION STREET   BROOKLYN   \n",
       "4  16925  NYC          KAID ABDULLA NAGI      2185 PACIFIC STREET   BROOKLYN   \n",
       "\n",
       "      13             14                   16            latitude  \\\n",
       "0  11104  NEW YORK CITY  GROCERY SUPERMARKET  40.742926268000076   \n",
       "1  10468          BRONX    CONVENIENCE STORE   40.85901719700007   \n",
       "2  11435         QUEENS  GROCERY SUPERMARKET   40.68646109600007   \n",
       "3  11231       BROOKLYN  GROCERY SUPERMARKET   40.68419413200007   \n",
       "4  11233       BROOKLYN  GROCERY SUPERMARKET  40.675747510000065   \n",
       "\n",
       "            longitude  \n",
       "0  -73.91821291099996  \n",
       "1  -73.89924838099995  \n",
       "2  -73.79406595499995  \n",
       "3  -74.00244823299994  \n",
       "4  -73.91400869999995  "
      ]
     },
     "execution_count": 59,
     "metadata": {},
     "output_type": "execute_result"
    }
   ],
   "source": [
    "tbc.head()"
   ]
  },
  {
   "cell_type": "code",
   "execution_count": 60,
   "metadata": {
    "collapsed": true
   },
   "outputs": [],
   "source": [
    "tbc.columns = ['id','city','name','address','neigborhood','zip','county','type','latitude','longitude']"
   ]
  },
  {
   "cell_type": "code",
   "execution_count": 61,
   "metadata": {
    "collapsed": false
   },
   "outputs": [
    {
     "data": {
      "text/html": [
       "<div>\n",
       "<table border=\"1\" class=\"dataframe\">\n",
       "  <thead>\n",
       "    <tr style=\"text-align: right;\">\n",
       "      <th></th>\n",
       "      <th>id</th>\n",
       "      <th>city</th>\n",
       "      <th>name</th>\n",
       "      <th>address</th>\n",
       "      <th>neigborhood</th>\n",
       "      <th>zip</th>\n",
       "      <th>county</th>\n",
       "      <th>type</th>\n",
       "      <th>latitude</th>\n",
       "      <th>longitude</th>\n",
       "    </tr>\n",
       "  </thead>\n",
       "  <tbody>\n",
       "    <tr>\n",
       "      <th>0</th>\n",
       "      <td>16604</td>\n",
       "      <td>NYC</td>\n",
       "      <td>BLISS DELI &amp; GROCERY CORP</td>\n",
       "      <td>4622 QUEENS BOULEVARD</td>\n",
       "      <td>SUNNYSIDE</td>\n",
       "      <td>11104</td>\n",
       "      <td>NEW YORK CITY</td>\n",
       "      <td>GROCERY SUPERMARKET</td>\n",
       "      <td>40.742926268000076</td>\n",
       "      <td>-73.91821291099996</td>\n",
       "    </tr>\n",
       "    <tr>\n",
       "      <th>1</th>\n",
       "      <td>16497</td>\n",
       "      <td>NYC</td>\n",
       "      <td>2355 DELI &amp; GROCERY CORP</td>\n",
       "      <td>2355 GRAND CONCOURSE</td>\n",
       "      <td>BRONX</td>\n",
       "      <td>10468</td>\n",
       "      <td>BRONX</td>\n",
       "      <td>CONVENIENCE STORE</td>\n",
       "      <td>40.85901719700007</td>\n",
       "      <td>-73.89924838099995</td>\n",
       "    </tr>\n",
       "    <tr>\n",
       "      <th>2</th>\n",
       "      <td>16503</td>\n",
       "      <td>NYC</td>\n",
       "      <td>4G DELI CORP</td>\n",
       "      <td>11316 SUTPHIN BOULEVARD</td>\n",
       "      <td>JAMAICA</td>\n",
       "      <td>11435</td>\n",
       "      <td>QUEENS</td>\n",
       "      <td>GROCERY SUPERMARKET</td>\n",
       "      <td>40.68646109600007</td>\n",
       "      <td>-73.79406595499995</td>\n",
       "    </tr>\n",
       "    <tr>\n",
       "      <th>3</th>\n",
       "      <td>16396</td>\n",
       "      <td>NYC</td>\n",
       "      <td>124 STOP 1 FOOD MART INC</td>\n",
       "      <td>124 UNION STREET</td>\n",
       "      <td>BROOKLYN</td>\n",
       "      <td>11231</td>\n",
       "      <td>BROOKLYN</td>\n",
       "      <td>GROCERY SUPERMARKET</td>\n",
       "      <td>40.68419413200007</td>\n",
       "      <td>-74.00244823299994</td>\n",
       "    </tr>\n",
       "    <tr>\n",
       "      <th>4</th>\n",
       "      <td>16925</td>\n",
       "      <td>NYC</td>\n",
       "      <td>KAID ABDULLA NAGI</td>\n",
       "      <td>2185 PACIFIC STREET</td>\n",
       "      <td>BROOKLYN</td>\n",
       "      <td>11233</td>\n",
       "      <td>BROOKLYN</td>\n",
       "      <td>GROCERY SUPERMARKET</td>\n",
       "      <td>40.675747510000065</td>\n",
       "      <td>-73.91400869999995</td>\n",
       "    </tr>\n",
       "  </tbody>\n",
       "</table>\n",
       "</div>"
      ],
      "text/plain": [
       "      id city                       name                  address neigborhood  \\\n",
       "0  16604  NYC  BLISS DELI & GROCERY CORP    4622 QUEENS BOULEVARD   SUNNYSIDE   \n",
       "1  16497  NYC   2355 DELI & GROCERY CORP     2355 GRAND CONCOURSE       BRONX   \n",
       "2  16503  NYC               4G DELI CORP  11316 SUTPHIN BOULEVARD     JAMAICA   \n",
       "3  16396  NYC   124 STOP 1 FOOD MART INC         124 UNION STREET    BROOKLYN   \n",
       "4  16925  NYC          KAID ABDULLA NAGI      2185 PACIFIC STREET    BROOKLYN   \n",
       "\n",
       "     zip         county                 type            latitude  \\\n",
       "0  11104  NEW YORK CITY  GROCERY SUPERMARKET  40.742926268000076   \n",
       "1  10468          BRONX    CONVENIENCE STORE   40.85901719700007   \n",
       "2  11435         QUEENS  GROCERY SUPERMARKET   40.68646109600007   \n",
       "3  11231       BROOKLYN  GROCERY SUPERMARKET   40.68419413200007   \n",
       "4  11233       BROOKLYN  GROCERY SUPERMARKET  40.675747510000065   \n",
       "\n",
       "            longitude  \n",
       "0  -73.91821291099996  \n",
       "1  -73.89924838099995  \n",
       "2  -73.79406595499995  \n",
       "3  -74.00244823299994  \n",
       "4  -73.91400869999995  "
      ]
     },
     "execution_count": 61,
     "metadata": {},
     "output_type": "execute_result"
    }
   ],
   "source": [
    "tbc.head()"
   ]
  },
  {
   "cell_type": "code",
   "execution_count": 69,
   "metadata": {
    "collapsed": false
   },
   "outputs": [],
   "source": [
    "tbc.to_csv('nyc_tobacco_locations.csv', encoding='utf-8', index=False)"
   ]
  },
  {
   "cell_type": "code",
   "execution_count": 71,
   "metadata": {
    "collapsed": false
   },
   "outputs": [
    {
     "data": {
      "text/plain": [
       "21130"
      ]
     },
     "execution_count": 71,
     "metadata": {},
     "output_type": "execute_result"
    }
   ],
   "source": [
    "len(tbc)"
   ]
  },
  {
   "cell_type": "code",
   "execution_count": 72,
   "metadata": {
    "collapsed": false
   },
   "outputs": [
    {
     "data": {
      "text/plain": [
       "10565"
      ]
     },
     "execution_count": 72,
     "metadata": {},
     "output_type": "execute_result"
    }
   ],
   "source": [
    "len(tbc)/2"
   ]
  },
  {
   "cell_type": "code",
   "execution_count": null,
   "metadata": {
    "collapsed": true
   },
   "outputs": [],
   "source": []
  }
 ],
 "metadata": {
  "kernelspec": {
   "display_name": "Python [default]",
   "language": "python",
   "name": "python2"
  },
  "language_info": {
   "codemirror_mode": {
    "name": "ipython",
    "version": 2
   },
   "file_extension": ".py",
   "mimetype": "text/x-python",
   "name": "python",
   "nbconvert_exporter": "python",
   "pygments_lexer": "ipython2",
   "version": "2.7.12"
  }
 },
 "nbformat": 4,
 "nbformat_minor": 1
}
